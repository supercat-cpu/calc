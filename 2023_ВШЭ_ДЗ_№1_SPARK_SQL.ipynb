{
  "nbformat": 4,
  "nbformat_minor": 0,
  "metadata": {
    "colab": {
      "provenance": [],
      "include_colab_link": true
    },
    "kernelspec": {
      "name": "python3",
      "display_name": "Python 3"
    },
    "language_info": {
      "name": "python"
    }
  },
  "cells": [
    {
      "cell_type": "markdown",
      "metadata": {
        "id": "view-in-github",
        "colab_type": "text"
      },
      "source": [
        "<a href=\"https://colab.research.google.com/github/supercat-cpu/calc/blob/main/2023_%D0%92%D0%A8%D0%AD_%D0%94%D0%97_%E2%84%961_SPARK_SQL.ipynb\" target=\"_parent\"><img src=\"https://colab.research.google.com/assets/colab-badge.svg\" alt=\"Open In Colab\"/></a>"
      ]
    },
    {
      "cell_type": "markdown",
      "source": [
        "# Домашнее задание № 1 (Apache Spark SQL)\n",
        "\n",
        "**Цель**: Решить 5 задач на SQL с использованием базовых таблиц.\n",
        "\n",
        "**Инструкции**:\n",
        "0. Прочитать условия ДЗ\n",
        "1. Выполнить задание на SQL;\n",
        "2. Ознакомиться с документацией по SQL: [Ссылка](https://spark.apache.org/docs/latest/sql-ref.html);\n",
        "3. Создать ноутбук с решениями задач (создайте копию на основе этого шаблона);\n",
        "4. Каждый запрос должен содержать обязательные комментарии с объяснением логического смысла решения;\n",
        "5. Скачать ноутбук в формате .ipynb и отправить на адрес электронной почты: ilya+hse@aniskovets.com.\n",
        "\n",
        "**Оценка и дедлайн**:\n",
        "- Максимальная оценка - 5 баллов;\n",
        "- Дедлайн: 24.05.2023 23:59;\n",
        "- Оценки будут опубликованы после сдачи **всех двух** домашних заданий.\n",
        "\n",
        "**Таблицы**:\n",
        "Для выполнения задания предполагается использование следующих таблиц, загруженных в систему в формате CSV с типами полей STRING:\n",
        "\n",
        "- title_basics_csv\n",
        "- title_principals_csv\n",
        "- title_crew_csv\n",
        "- title_episode_csv\n",
        "- title_ratings_csv\n",
        "- title_akas_csv\n",
        "- name_basics_csv\n",
        "\n",
        "**Преобразование типов**:\n",
        "Для преобразования STRING в другой тип используйте конструкцию: \n",
        "```sql\n",
        "CAST (column_name AS TYPE) AS column_name\n",
        "```\n",
        "\n",
        "**Пример**\n",
        "```sql\n",
        "CREATE TABLE test_table USING PARQUET AS \n",
        "  SELECT \n",
        "    CAST(averageRating AS decimal(2,1))  AS averageRating \n",
        "  FROM test_table_csv \n",
        "```\n",
        "\n",
        "**Все подготовительные этапы по преобразованию типов нужно делать в разделе Initialization. После чего, рекомендуется использовать в запросах таблицы в формате PARQUET**\n",
        "\n",
        "Перед этим не мешает проверить, что значения влезают в размерности этого типа\n",
        "Список типов SQL: https://spark.apache.org/docs/latest/sql-ref-datatypes.html \n",
        "\n",
        "Домашнее задание необходимо сделать в виде ноутбука. Ноутбук должен запускаться без ошибок.\n",
        "\n",
        "Во всех задачах ответом должно быть только ОДНО значение (число или строка).\n",
        "\n",
        "Неправильный ответ - 0 баллов за задачу.\n",
        "Правильный ответ на все тесты 1 балл за задачу, иначе пропорционально количеству пройденных тестов (количество тестов и какие именно заранее неизвестны).\n",
        "\n",
        "**ВНИМАНИЕ! К каждому запросу необходимо писать комментарии. Комментарии должны обьяснять логический смысл решения. Отсутствие комментария к решению задачи штраф - оценка за задачу = оценка / 2!**\n",
        "\n",
        "Всего 5 задач и 5 баллов\n",
        "\n",
        "**В режиме проверки SQL запросы будут запускаться с любыми параметрами, отличными от тех, что вы выбрали.**\n",
        "\n",
        "Скрипты не должны зависеть от выбранного вами параметра, а также от регистра строки. Все параметры должны быть изменяемыми (смотрите, пример в Вопросе № 0)\n",
        "\n",
        "**Тестирование будет проводится с любым значением параметров, в том числе с отсутвующим в датасете, запрос должен выводить правильный результат!**\n",
        "\n",
        "SQL запрос в ответе всегда должен быть один и параметризирован. Если необходимо пользуйтесь конструкцией WITH name AS () -  пример ниже\n",
        "\n",
        "После завершения работы нажимайте в меню File/Download/Download ipnb, скачивайте файл и присылайте почтой на ilya+hse@aniskovets.com\n",
        "\n",
        "Если заметили опечатки или появились вопросы пишите в телеграм: @aigmx\n",
        "\n"
      ],
      "metadata": {
        "id": "RC9u5jdnHx50"
      }
    },
    {
      "cell_type": "code",
      "source": [
        "!pip install pyspark===3.4.0"
      ],
      "metadata": {
        "colab": {
          "base_uri": "https://localhost:8080/"
        },
        "id": "aW6H3k8n0tYc",
        "outputId": "a98101e1-d99b-459d-fcb2-5d2b318b1899"
      },
      "execution_count": null,
      "outputs": [
        {
          "output_type": "stream",
          "name": "stdout",
          "text": [
            "Looking in indexes: https://pypi.org/simple, https://us-python.pkg.dev/colab-wheels/public/simple/\n",
            "Requirement already satisfied: pyspark===3.4.0 in /usr/local/lib/python3.10/dist-packages (3.4.0)\n",
            "Requirement already satisfied: py4j==0.10.9.7 in /usr/local/lib/python3.10/dist-packages (from pyspark===3.4.0) (0.10.9.7)\n"
          ]
        }
      ]
    },
    {
      "cell_type": "code",
      "source": [
        "!curl -O https://mars.ru77.ru/data/title.basics.tsv.gz\n",
        "!curl -O https://mars.ru77.ru/data/title.crew.tsv.gz\n",
        "!curl -O https://mars.ru77.ru/data/title.episode.tsv.gz\n",
        "!curl -O https://mars.ru77.ru/data/title.principals.tsv.gz\n",
        "!curl -O https://mars.ru77.ru/data/title.ratings.tsv.gz\n",
        "!curl -O https://mars.ru77.ru/data/title.akas.tsv.gz\n",
        "!curl -O https://mars.ru77.ru/data/name.basics.tsv.gz"
      ],
      "metadata": {
        "id": "pp42uQGB3Nez",
        "colab": {
          "base_uri": "https://localhost:8080/"
        },
        "outputId": "002d5cf6-d6cc-486b-d89b-53fdbe1a24d9"
      },
      "execution_count": null,
      "outputs": [
        {
          "output_type": "stream",
          "name": "stdout",
          "text": [
            "  % Total    % Received % Xferd  Average Speed   Time    Time     Time  Current\n",
            "                                 Dload  Upload   Total   Spent    Left  Speed\n",
            "100  132M  100  132M    0     0  8615k      0  0:00:15  0:00:15 --:--:-- 11.8M\n",
            "  % Total    % Received % Xferd  Average Speed   Time    Time     Time  Current\n",
            "                                 Dload  Upload   Total   Spent    Left  Speed\n",
            "100 51.7M  100 51.7M    0     0  6009k      0  0:00:08  0:00:08 --:--:-- 10.8M\n",
            "  % Total    % Received % Xferd  Average Speed   Time    Time     Time  Current\n",
            "                                 Dload  Upload   Total   Spent    Left  Speed\n",
            "100 29.6M  100 29.6M    0     0  4788k      0  0:00:06  0:00:06 --:--:-- 6536k\n",
            "  % Total    % Received % Xferd  Average Speed   Time    Time     Time  Current\n",
            "                                 Dload  Upload   Total   Spent    Left  Speed\n",
            "100  342M  100  342M    0     0  10.4M      0  0:00:32  0:00:32 --:--:-- 11.9M\n",
            "  % Total    % Received % Xferd  Average Speed   Time    Time     Time  Current\n",
            "                                 Dload  Upload   Total   Spent    Left  Speed\n",
            "100 5526k  100 5526k    0     0  1243k      0  0:00:04  0:00:04 --:--:-- 1341k\n",
            "  % Total    % Received % Xferd  Average Speed   Time    Time     Time  Current\n",
            "                                 Dload  Upload   Total   Spent    Left  Speed\n",
            "100  214M  100  214M    0     0   9.9M      0  0:00:21  0:00:21 --:--:-- 11.9M\n",
            "  % Total    % Received % Xferd  Average Speed   Time    Time     Time  Current\n",
            "                                 Dload  Upload   Total   Spent    Left  Speed\n",
            "100  202M  100  202M    0     0  9910k      0  0:00:20  0:00:20 --:--:-- 12.0M\n"
          ]
        }
      ]
    },
    {
      "cell_type": "code",
      "source": [
        "from pyspark.sql import SparkSession, SQLContext\n",
        "from pyspark import SparkConf, SparkContext\n",
        "\n",
        "\n",
        "spark = SparkSession.builder.master(\"local[2]\").config(\"spark.driver.memory\", \"8g\").appName(\"vse\").enableHiveSupport().getOrCreate()\n",
        "sql = spark.sql"
      ],
      "metadata": {
        "id": "ozFaxBjr3Lk8"
      },
      "execution_count": null,
      "outputs": []
    },
    {
      "cell_type": "code",
      "source": [
        "\n",
        "title_basics_csv = spark.read.csv(\"title.basics.tsv.gz\", sep='\\\\t', nullValue='\\\\N', header=True, quote=\"\", escape=\"\")\n",
        "title_basics_csv.createOrReplaceTempView(\"title_basics_csv\")\n",
        "\n",
        "\n",
        "title_principals_csv = spark.read.csv(\"title.principals.tsv.gz\", sep='\\\\t', nullValue='\\\\N', header=True, quote=\"\", escape=\"\")\n",
        "title_principals_csv.createOrReplaceTempView(\"title_principals_csv\")\n",
        "\n",
        "\n",
        "title_crew_csv = spark.read.csv(\"title.crew.tsv.gz\", sep='\\\\t', nullValue='\\\\N', header=True, quote=\"\", escape=\"\")\n",
        "title_crew_csv.createOrReplaceTempView(\"title_crew_csv\")\n",
        "\n",
        "\n",
        "title_episode_csv = spark.read.csv(\"title.episode.tsv.gz\", sep='\\\\t', nullValue='\\\\N', header=True, quote=\"\", escape=\"\")\n",
        "title_episode_csv.createOrReplaceTempView(\"title_episode_csv\")\n",
        "\n",
        "\n",
        "title_ratings_csv = spark.read.csv(\"title.ratings.tsv.gz\", sep='\\\\t', nullValue='\\\\N', header=True, quote=\"\", escape=\"\")\n",
        "title_ratings_csv.createOrReplaceTempView(\"title_ratings_csv\")\n",
        "\n",
        "\n",
        "title_akas_csv = spark.read.csv(\"title.akas.tsv.gz\", sep='\\\\t', nullValue='\\\\N', header=True, quote=\"\", escape=\"\")\n",
        "title_akas_csv.createOrReplaceTempView(\"title_akas_csv\")\n",
        "\n",
        "\n",
        "name_basics_csv = spark.read.csv(\"name.basics.tsv.gz\", sep='\\\\t', nullValue='\\\\N', header=True, quote=\"\", escape=\"\")\n",
        "name_basics_csv.createOrReplaceTempView(\"name_basics_csv\")"
      ],
      "metadata": {
        "id": "X1fn6BV_3KRJ"
      },
      "execution_count": null,
      "outputs": []
    },
    {
      "cell_type": "code",
      "source": [
        "# Initialization\n",
        "_ = sql(\"\"\"DROP TABLE IF EXISTS title_basics\"\"\").collect()\n",
        "_ = sql(\"\"\"CREATE TABLE title_basics STORED AS PARQUET SELECT * FROM title_basics_csv\"\"\").collect()\n",
        "\n",
        "_ = sql(\"\"\"DROP TABLE IF EXISTS title_principals\"\"\").collect()\n",
        "_ = sql(\"\"\"CREATE TABLE title_principals STORED AS PARQUET SELECT * FROM title_principals_csv\"\"\").collect()\n",
        "\n",
        "_ = sql(\"\"\"DROP TABLE IF EXISTS title_crew\"\"\").collect()\n",
        "_ = sql(\"\"\"CREATE TABLE title_crew STORED AS PARQUET SELECT * FROM title_crew_csv\"\"\").collect()\n",
        "\n",
        "_ = sql(\"\"\"DROP TABLE IF EXISTS title_episode\"\"\").collect()\n",
        "_ = sql(\"\"\"CREATE TABLE title_episode STORED AS PARQUET SELECT * FROM title_episode_csv\"\"\").collect()\n",
        "\n",
        "_ = sql(\"\"\"DROP TABLE IF EXISTS title_ratings\"\"\").collect()\n",
        "_ = sql(\"\"\"CREATE TABLE title_ratings STORED AS PARQUET SELECT * FROM title_ratings_csv\"\"\").collect()\n",
        "\n",
        "_ = sql(\"\"\"DROP TABLE IF EXISTS title_akas\"\"\").collect()\n",
        "_ = sql(\"\"\"CREATE TABLE title_akas STORED AS PARQUET SELECT * FROM title_akas_csv\"\"\").collect()\n",
        "\n",
        "_ = sql(\"\"\"DROP TABLE IF EXISTS name_basics\"\"\").collect()\n",
        "_ = sql(\"\"\"CREATE TABLE name_basics STORED AS PARQUET SELECT * FROM name_basics_csv\"\"\").collect()"
      ],
      "metadata": {
        "id": "U1Oy8O6Fmjrn"
      },
      "execution_count": null,
      "outputs": []
    },
    {
      "cell_type": "code",
      "source": [
        "sql(\"DESCRIBE FORMATTED title_basics\").show(50, truncate=False)\n",
        "sql(\"DESCRIBE FORMATTED title_principals\").show(50, truncate=False)\n",
        "sql(\"DESCRIBE FORMATTED title_crew\").show(50, truncate=False)\n",
        "sql(\"DESCRIBE FORMATTED title_episode\").show(50, truncate=False)\n",
        "sql(\"DESCRIBE FORMATTED title_ratings\").show(50, truncate=False)\n",
        "sql(\"DESCRIBE FORMATTED title_akas\").show(50, truncate=False)\n",
        "sql(\"DESCRIBE FORMATTED name_basics\").show(50, truncate=False)"
      ],
      "metadata": {
        "id": "lX4RUhILnx7m",
        "colab": {
          "base_uri": "https://localhost:8080/"
        },
        "outputId": "ebdb9947-0d3f-4c3b-8dd7-ef2e04fefb41"
      },
      "execution_count": null,
      "outputs": [
        {
          "output_type": "stream",
          "name": "stdout",
          "text": [
            "+----------------------------+--------------------------------------------------------------+-------+\n",
            "|col_name                    |data_type                                                     |comment|\n",
            "+----------------------------+--------------------------------------------------------------+-------+\n",
            "|tconst                      |string                                                        |null   |\n",
            "|titleType                   |string                                                        |null   |\n",
            "|primaryTitle                |string                                                        |null   |\n",
            "|originalTitle               |string                                                        |null   |\n",
            "|isAdult                     |string                                                        |null   |\n",
            "|startYear                   |string                                                        |null   |\n",
            "|endYear                     |string                                                        |null   |\n",
            "|runtimeMinutes              |string                                                        |null   |\n",
            "|genres                      |string                                                        |null   |\n",
            "|                            |                                                              |       |\n",
            "|# Detailed Table Information|                                                              |       |\n",
            "|Catalog                     |spark_catalog                                                 |       |\n",
            "|Database                    |default                                                       |       |\n",
            "|Table                       |title_basics                                                  |       |\n",
            "|Owner                       |root                                                          |       |\n",
            "|Created Time                |Mon May 08 09:06:12 UTC 2023                                  |       |\n",
            "|Last Access                 |UNKNOWN                                                       |       |\n",
            "|Created By                  |Spark 3.4.0                                                   |       |\n",
            "|Type                        |MANAGED                                                       |       |\n",
            "|Provider                    |hive                                                          |       |\n",
            "|Table Properties            |[transient_lastDdlTime=1683536772]                            |       |\n",
            "|Location                    |file:/content/spark-warehouse/title_basics                    |       |\n",
            "|Serde Library               |org.apache.hadoop.hive.ql.io.parquet.serde.ParquetHiveSerDe   |       |\n",
            "|InputFormat                 |org.apache.hadoop.hive.ql.io.parquet.MapredParquetInputFormat |       |\n",
            "|OutputFormat                |org.apache.hadoop.hive.ql.io.parquet.MapredParquetOutputFormat|       |\n",
            "|Storage Properties          |[serialization.format=1]                                      |       |\n",
            "|Partition Provider          |Catalog                                                       |       |\n",
            "+----------------------------+--------------------------------------------------------------+-------+\n",
            "\n",
            "+----------------------------+--------------------------------------------------------------+-------+\n",
            "|col_name                    |data_type                                                     |comment|\n",
            "+----------------------------+--------------------------------------------------------------+-------+\n",
            "|tconst                      |string                                                        |null   |\n",
            "|ordering                    |string                                                        |null   |\n",
            "|nconst                      |string                                                        |null   |\n",
            "|category                    |string                                                        |null   |\n",
            "|job                         |string                                                        |null   |\n",
            "|characters                  |string                                                        |null   |\n",
            "|                            |                                                              |       |\n",
            "|# Detailed Table Information|                                                              |       |\n",
            "|Catalog                     |spark_catalog                                                 |       |\n",
            "|Database                    |default                                                       |       |\n",
            "|Table                       |title_principals                                              |       |\n",
            "|Owner                       |root                                                          |       |\n",
            "|Created Time                |Mon May 08 09:07:02 UTC 2023                                  |       |\n",
            "|Last Access                 |UNKNOWN                                                       |       |\n",
            "|Created By                  |Spark 3.4.0                                                   |       |\n",
            "|Type                        |MANAGED                                                       |       |\n",
            "|Provider                    |hive                                                          |       |\n",
            "|Table Properties            |[transient_lastDdlTime=1683536822]                            |       |\n",
            "|Location                    |file:/content/spark-warehouse/title_principals                |       |\n",
            "|Serde Library               |org.apache.hadoop.hive.ql.io.parquet.serde.ParquetHiveSerDe   |       |\n",
            "|InputFormat                 |org.apache.hadoop.hive.ql.io.parquet.MapredParquetInputFormat |       |\n",
            "|OutputFormat                |org.apache.hadoop.hive.ql.io.parquet.MapredParquetOutputFormat|       |\n",
            "|Storage Properties          |[serialization.format=1]                                      |       |\n",
            "|Partition Provider          |Catalog                                                       |       |\n",
            "+----------------------------+--------------------------------------------------------------+-------+\n",
            "\n",
            "+----------------------------+--------------------------------------------------------------+-------+\n",
            "|col_name                    |data_type                                                     |comment|\n",
            "+----------------------------+--------------------------------------------------------------+-------+\n",
            "|tconst                      |string                                                        |null   |\n",
            "|directors                   |string                                                        |null   |\n",
            "|writers                     |string                                                        |null   |\n",
            "|                            |                                                              |       |\n",
            "|# Detailed Table Information|                                                              |       |\n",
            "|Catalog                     |spark_catalog                                                 |       |\n",
            "|Database                    |default                                                       |       |\n",
            "|Table                       |title_crew                                                    |       |\n",
            "|Owner                       |root                                                          |       |\n",
            "|Created Time                |Mon May 08 09:09:55 UTC 2023                                  |       |\n",
            "|Last Access                 |UNKNOWN                                                       |       |\n",
            "|Created By                  |Spark 3.4.0                                                   |       |\n",
            "|Type                        |MANAGED                                                       |       |\n",
            "|Provider                    |hive                                                          |       |\n",
            "|Table Properties            |[transient_lastDdlTime=1683536995]                            |       |\n",
            "|Location                    |file:/content/spark-warehouse/title_crew                      |       |\n",
            "|Serde Library               |org.apache.hadoop.hive.ql.io.parquet.serde.ParquetHiveSerDe   |       |\n",
            "|InputFormat                 |org.apache.hadoop.hive.ql.io.parquet.MapredParquetInputFormat |       |\n",
            "|OutputFormat                |org.apache.hadoop.hive.ql.io.parquet.MapredParquetOutputFormat|       |\n",
            "|Storage Properties          |[serialization.format=1]                                      |       |\n",
            "|Partition Provider          |Catalog                                                       |       |\n",
            "+----------------------------+--------------------------------------------------------------+-------+\n",
            "\n",
            "+----------------------------+--------------------------------------------------------------+-------+\n",
            "|col_name                    |data_type                                                     |comment|\n",
            "+----------------------------+--------------------------------------------------------------+-------+\n",
            "|tconst                      |string                                                        |null   |\n",
            "|parentTconst                |string                                                        |null   |\n",
            "|seasonNumber                |string                                                        |null   |\n",
            "|episodeNumber               |string                                                        |null   |\n",
            "|                            |                                                              |       |\n",
            "|# Detailed Table Information|                                                              |       |\n",
            "|Catalog                     |spark_catalog                                                 |       |\n",
            "|Database                    |default                                                       |       |\n",
            "|Table                       |title_episode                                                 |       |\n",
            "|Owner                       |root                                                          |       |\n",
            "|Created Time                |Mon May 08 09:10:16 UTC 2023                                  |       |\n",
            "|Last Access                 |UNKNOWN                                                       |       |\n",
            "|Created By                  |Spark 3.4.0                                                   |       |\n",
            "|Type                        |MANAGED                                                       |       |\n",
            "|Provider                    |hive                                                          |       |\n",
            "|Table Properties            |[transient_lastDdlTime=1683537016]                            |       |\n",
            "|Location                    |file:/content/spark-warehouse/title_episode                   |       |\n",
            "|Serde Library               |org.apache.hadoop.hive.ql.io.parquet.serde.ParquetHiveSerDe   |       |\n",
            "|InputFormat                 |org.apache.hadoop.hive.ql.io.parquet.MapredParquetInputFormat |       |\n",
            "|OutputFormat                |org.apache.hadoop.hive.ql.io.parquet.MapredParquetOutputFormat|       |\n",
            "|Storage Properties          |[serialization.format=1]                                      |       |\n",
            "|Partition Provider          |Catalog                                                       |       |\n",
            "+----------------------------+--------------------------------------------------------------+-------+\n",
            "\n",
            "+----------------------------+--------------------------------------------------------------+-------+\n",
            "|col_name                    |data_type                                                     |comment|\n",
            "+----------------------------+--------------------------------------------------------------+-------+\n",
            "|tconst                      |string                                                        |null   |\n",
            "|averageRating               |string                                                        |null   |\n",
            "|numVotes                    |string                                                        |null   |\n",
            "|                            |                                                              |       |\n",
            "|# Detailed Table Information|                                                              |       |\n",
            "|Catalog                     |spark_catalog                                                 |       |\n",
            "|Database                    |default                                                       |       |\n",
            "|Table                       |title_ratings                                                 |       |\n",
            "|Owner                       |root                                                          |       |\n",
            "|Created Time                |Mon May 08 09:10:33 UTC 2023                                  |       |\n",
            "|Last Access                 |UNKNOWN                                                       |       |\n",
            "|Created By                  |Spark 3.4.0                                                   |       |\n",
            "|Type                        |MANAGED                                                       |       |\n",
            "|Provider                    |hive                                                          |       |\n",
            "|Table Properties            |[transient_lastDdlTime=1683537033]                            |       |\n",
            "|Location                    |file:/content/spark-warehouse/title_ratings                   |       |\n",
            "|Serde Library               |org.apache.hadoop.hive.ql.io.parquet.serde.ParquetHiveSerDe   |       |\n",
            "|InputFormat                 |org.apache.hadoop.hive.ql.io.parquet.MapredParquetInputFormat |       |\n",
            "|OutputFormat                |org.apache.hadoop.hive.ql.io.parquet.MapredParquetOutputFormat|       |\n",
            "|Storage Properties          |[serialization.format=1]                                      |       |\n",
            "|Partition Provider          |Catalog                                                       |       |\n",
            "+----------------------------+--------------------------------------------------------------+-------+\n",
            "\n",
            "+----------------------------+--------------------------------------------------------------+-------+\n",
            "|col_name                    |data_type                                                     |comment|\n",
            "+----------------------------+--------------------------------------------------------------+-------+\n",
            "|titleId                     |string                                                        |null   |\n",
            "|ordering                    |string                                                        |null   |\n",
            "|title                       |string                                                        |null   |\n",
            "|region                      |string                                                        |null   |\n",
            "|language                    |string                                                        |null   |\n",
            "|types                       |string                                                        |null   |\n",
            "|attributes                  |string                                                        |null   |\n",
            "|isOriginalTitle             |string                                                        |null   |\n",
            "|                            |                                                              |       |\n",
            "|# Detailed Table Information|                                                              |       |\n",
            "|Catalog                     |spark_catalog                                                 |       |\n",
            "|Database                    |default                                                       |       |\n",
            "|Table                       |title_akas                                                    |       |\n",
            "|Owner                       |root                                                          |       |\n",
            "|Created Time                |Mon May 08 09:10:36 UTC 2023                                  |       |\n",
            "|Last Access                 |UNKNOWN                                                       |       |\n",
            "|Created By                  |Spark 3.4.0                                                   |       |\n",
            "|Type                        |MANAGED                                                       |       |\n",
            "|Provider                    |hive                                                          |       |\n",
            "|Table Properties            |[transient_lastDdlTime=1683537036]                            |       |\n",
            "|Location                    |file:/content/spark-warehouse/title_akas                      |       |\n",
            "|Serde Library               |org.apache.hadoop.hive.ql.io.parquet.serde.ParquetHiveSerDe   |       |\n",
            "|InputFormat                 |org.apache.hadoop.hive.ql.io.parquet.MapredParquetInputFormat |       |\n",
            "|OutputFormat                |org.apache.hadoop.hive.ql.io.parquet.MapredParquetOutputFormat|       |\n",
            "|Storage Properties          |[serialization.format=1]                                      |       |\n",
            "|Partition Provider          |Catalog                                                       |       |\n",
            "+----------------------------+--------------------------------------------------------------+-------+\n",
            "\n",
            "+----------------------------+--------------------------------------------------------------+-------+\n",
            "|col_name                    |data_type                                                     |comment|\n",
            "+----------------------------+--------------------------------------------------------------+-------+\n",
            "|nconst                      |string                                                        |null   |\n",
            "|primaryName                 |string                                                        |null   |\n",
            "|birthYear                   |string                                                        |null   |\n",
            "|deathYear                   |string                                                        |null   |\n",
            "|primaryProfession           |string                                                        |null   |\n",
            "|knownForTitles              |string                                                        |null   |\n",
            "|                            |                                                              |       |\n",
            "|# Detailed Table Information|                                                              |       |\n",
            "|Catalog                     |spark_catalog                                                 |       |\n",
            "|Database                    |default                                                       |       |\n",
            "|Table                       |name_basics                                                   |       |\n",
            "|Owner                       |root                                                          |       |\n",
            "|Created Time                |Mon May 08 09:12:27 UTC 2023                                  |       |\n",
            "|Last Access                 |UNKNOWN                                                       |       |\n",
            "|Created By                  |Spark 3.4.0                                                   |       |\n",
            "|Type                        |MANAGED                                                       |       |\n",
            "|Provider                    |hive                                                          |       |\n",
            "|Table Properties            |[transient_lastDdlTime=1683537147]                            |       |\n",
            "|Location                    |file:/content/spark-warehouse/name_basics                     |       |\n",
            "|Serde Library               |org.apache.hadoop.hive.ql.io.parquet.serde.ParquetHiveSerDe   |       |\n",
            "|InputFormat                 |org.apache.hadoop.hive.ql.io.parquet.MapredParquetInputFormat |       |\n",
            "|OutputFormat                |org.apache.hadoop.hive.ql.io.parquet.MapredParquetOutputFormat|       |\n",
            "|Storage Properties          |[serialization.format=1]                                      |       |\n",
            "|Partition Provider          |Catalog                                                       |       |\n",
            "+----------------------------+--------------------------------------------------------------+-------+\n",
            "\n"
          ]
        }
      ]
    },
    {
      "cell_type": "markdown",
      "source": [
        "Вопрос №0 (не оценивается, показан, как пример). Сколько произведений имеют средний рейтинг выше заданного {threshold}?"
      ],
      "metadata": {
        "id": "YHfHxnjJ2a_e"
      }
    },
    {
      "cell_type": "code",
      "source": [
        "query_0 = \"\"\"\n",
        "/*\n",
        "  Чтобы посчитать количество произведений находим все рейтинги больше, чем заданный порог.\n",
        "  Так как надо найти все произведения, а не только фильмы, нам не нужно делать фильтр по типу произведения titleType\n",
        "*/\n",
        "SELECT \n",
        "  COUNT(tconst) as cnt_above_threshold\n",
        "FROM  title_ratings\n",
        "WHERE averageRating > {threshold};\n",
        "\"\"\"\n",
        "sql(query_0, threshold=5.0).show(truncate=False)"
      ],
      "metadata": {
        "colab": {
          "base_uri": "https://localhost:8080/"
        },
        "id": "pr2IF_C70sp3",
        "outputId": "26a97671-a13a-4332-86cd-c71080ca6a30"
      },
      "execution_count": null,
      "outputs": [
        {
          "output_type": "stream",
          "name": "stdout",
          "text": [
            "+----------------------+\n",
            "|movies_above_threshold|\n",
            "+----------------------+\n",
            "|1029097               |\n",
            "+----------------------+\n",
            "\n"
          ]
        }
      ]
    },
    {
      "cell_type": "markdown",
      "source": [
        "Вопрос №1. Найдите среднюю продолжительность (title_basics:runtimeMinutes) фильмов (title_basics:titleType=movie) определенного жанра {genre}. \n",
        "\n",
        "Среднюю продолжительность надо рассчитать только для тех фильмов, где title_basics:runtimeMinutes не равен NULL. "
      ],
      "metadata": {
        "id": "I0Xdfa0T6ZUT"
      }
    },
    {
      "cell_type": "code",
      "source": [
        "query_1 = \"\"\"\n",
        "SELECT -1 AS answer -- ваш ответ тут \n",
        "\"\"\"\n",
        "sql(query_1, genre='comedY').show(truncate=False)"
      ],
      "metadata": {
        "colab": {
          "base_uri": "https://localhost:8080/"
        },
        "id": "nJJ_XspE6kP6",
        "outputId": "e800d82d-707a-4295-b0b5-152e82b2098d"
      },
      "execution_count": null,
      "outputs": [
        {
          "output_type": "stream",
          "name": "stdout",
          "text": [
            "+------+\n",
            "|answer|\n",
            "+------+\n",
            "|-1    |\n",
            "+------+\n",
            "\n"
          ]
        }
      ]
    },
    {
      "cell_type": "markdown",
      "source": [
        "Вопрос №2. Сколько фильмов (title_basics:titleType=movie) определенного жанра (title_basics:genres) {genre} было выпущено в определенный год (title_basics:startYear) {year}?\n"
      ],
      "metadata": {
        "id": "HX4TaRQS4Mjb"
      }
    },
    {
      "cell_type": "code",
      "source": [
        "query_2 = \"\"\"\n",
        "SELECT -1 AS answer -- ваш ответ тут \n",
        "\"\"\"\n",
        "sql(query_2, genre='Comedy', year=2022).show(truncate=False)"
      ],
      "metadata": {
        "colab": {
          "base_uri": "https://localhost:8080/"
        },
        "id": "pOMaygnv4Wce",
        "outputId": "cf177ffa-d4cc-42b8-9bb7-4f9fca7d7659"
      },
      "execution_count": null,
      "outputs": [
        {
          "output_type": "stream",
          "name": "stdout",
          "text": [
            "+------+\n",
            "|answer|\n",
            "+------+\n",
            "|-1    |\n",
            "+------+\n",
            "\n"
          ]
        }
      ]
    },
    {
      "cell_type": "markdown",
      "source": [
        "Вопрос №3. Сколько фильмов определенного жанра (title_basics:genres) {genre}, в которых снялся конкретный актер (name_basics:primaryName) {actor}, имеют средний рейтинг (title_ratings:averageRating) выше заданного порога {threshold}?\n",
        "\n",
        "\n",
        "\n",
        "\n",
        "\n"
      ],
      "metadata": {
        "id": "BnAxHdo84q8n"
      }
    },
    {
      "cell_type": "code",
      "source": [
        "query_3 = \"\"\"\n",
        "SELECT -1 AS answer -- ваш ответ тут \n",
        "\"\"\"\n",
        "sql(query_3, genre='comedy', actor='James Cagney', threshold=5.3).show(truncate=False)"
      ],
      "metadata": {
        "colab": {
          "base_uri": "https://localhost:8080/"
        },
        "id": "gBzpWjod5BsT",
        "outputId": "0ae3b701-866b-4f75-ec3c-9e5b2835587d"
      },
      "execution_count": null,
      "outputs": [
        {
          "output_type": "stream",
          "name": "stdout",
          "text": [
            "+------+\n",
            "|answer|\n",
            "+------+\n",
            "|-1    |\n",
            "+------+\n",
            "\n"
          ]
        }
      ]
    },
    {
      "cell_type": "markdown",
      "source": [
        "Вопрос №4. Сколько телесериалов (title_basics:titleType=tvSeries) в определенном жанре (title_basics:genres) {genre} имеют более определенного количества (title_episode:seasonNumber > {seasons})?\n"
      ],
      "metadata": {
        "id": "3pML6m5O42Hk"
      }
    },
    {
      "cell_type": "code",
      "source": [
        "query_4 = \"\"\"\n",
        "SELECT -1 AS answer -- ваш ответ тут \n",
        "\"\"\"\n",
        "sql(query_4, genre='Comedy', seasons=7).show(truncate=False)"
      ],
      "metadata": {
        "id": "egSPXazk6mlr",
        "colab": {
          "base_uri": "https://localhost:8080/"
        },
        "outputId": "8747e890-f837-477e-ca0c-7f3da54fca40"
      },
      "execution_count": null,
      "outputs": [
        {
          "output_type": "stream",
          "name": "stdout",
          "text": [
            "+------+\n",
            "|answer|\n",
            "+------+\n",
            "|-1    |\n",
            "+------+\n",
            "\n"
          ]
        }
      ]
    },
    {
      "cell_type": "markdown",
      "source": [
        "Вопрос № 5. Сколько фильмов (title_basics:titleType=movie)  создал конкретный сценарист (title_crew:writers, name_basics:primaryName) {writer} в определенном жанре (title_basics:genres) {genre}?"
      ],
      "metadata": {
        "id": "c06R3Avo5jwH"
      }
    },
    {
      "cell_type": "code",
      "source": [
        "query_5  = \"\"\"\n",
        "SELECT 0 AS answer -- ваш ответ тут \n",
        "\"\"\"\n",
        "sql(query_5, genre='comedy', writer='james cagney').show(truncate=False)"
      ],
      "metadata": {
        "id": "Cu172vb05yKB",
        "colab": {
          "base_uri": "https://localhost:8080/"
        },
        "outputId": "f54eff75-4b53-44eb-fbc5-4e12823e6bdb"
      },
      "execution_count": null,
      "outputs": [
        {
          "output_type": "stream",
          "name": "stdout",
          "text": [
            "+------+\n",
            "|answer|\n",
            "+------+\n",
            "|0     |\n",
            "+------+\n",
            "\n"
          ]
        }
      ]
    },
    {
      "cell_type": "code",
      "source": [
        "# PLEASE DO NOT REMOVE THIS CELL\n",
        "\n",
        "# Generate answers\n",
        "for n in range(1, 6):\n",
        "  print(f\"-- answer {n}\\n \" + globals()[f\"query_{n}\"] + \";\\n\")"
      ],
      "metadata": {
        "id": "gmIJNzuVBqG5",
        "colab": {
          "base_uri": "https://localhost:8080/",
          "height": 200
        },
        "outputId": "0c3ff788-114d-46cf-b363-c4519e6b1a77"
      },
      "execution_count": null,
      "outputs": [
        {
          "output_type": "error",
          "ename": "KeyError",
          "evalue": "ignored",
          "traceback": [
            "\u001b[0;31m---------------------------------------------------------------------------\u001b[0m",
            "\u001b[0;31mKeyError\u001b[0m                                  Traceback (most recent call last)",
            "\u001b[0;32m<ipython-input-1-fe5b5a6e52f9>\u001b[0m in \u001b[0;36m<cell line: 4>\u001b[0;34m()\u001b[0m\n\u001b[1;32m      3\u001b[0m \u001b[0;31m# Generate answers\u001b[0m\u001b[0;34m\u001b[0m\u001b[0;34m\u001b[0m\u001b[0m\n\u001b[1;32m      4\u001b[0m \u001b[0;32mfor\u001b[0m \u001b[0mn\u001b[0m \u001b[0;32min\u001b[0m \u001b[0mrange\u001b[0m\u001b[0;34m(\u001b[0m\u001b[0;36m1\u001b[0m\u001b[0;34m,\u001b[0m \u001b[0;36m6\u001b[0m\u001b[0;34m)\u001b[0m\u001b[0;34m:\u001b[0m\u001b[0;34m\u001b[0m\u001b[0;34m\u001b[0m\u001b[0m\n\u001b[0;32m----> 5\u001b[0;31m   \u001b[0mprint\u001b[0m\u001b[0;34m(\u001b[0m\u001b[0;34mf\"-- answer {n}\\n \"\u001b[0m \u001b[0;34m+\u001b[0m \u001b[0mglobals\u001b[0m\u001b[0;34m(\u001b[0m\u001b[0;34m)\u001b[0m\u001b[0;34m[\u001b[0m\u001b[0;34mf\"query_{n}\"\u001b[0m\u001b[0;34m]\u001b[0m \u001b[0;34m+\u001b[0m \u001b[0;34m\";\\n\"\u001b[0m\u001b[0;34m)\u001b[0m\u001b[0;34m\u001b[0m\u001b[0;34m\u001b[0m\u001b[0m\n\u001b[0m",
            "\u001b[0;31mKeyError\u001b[0m: 'query_1'"
          ]
        }
      ]
    },
    {
      "cell_type": "code",
      "source": [],
      "metadata": {
        "id": "19RZWs_mkHyY"
      },
      "execution_count": null,
      "outputs": []
    }
  ]
}